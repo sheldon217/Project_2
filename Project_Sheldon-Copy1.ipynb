{
 "cells": [
  {
   "cell_type": "markdown",
   "metadata": {},
   "source": [
    "---\n",
    "# <U>***Importing librabries***"
   ]
  },
  {
   "cell_type": "code",
   "execution_count": 1,
   "metadata": {},
   "outputs": [],
   "source": [
    "import warnings\n",
    "warnings.filterwarnings('ignore')"
   ]
  },
  {
   "cell_type": "code",
   "execution_count": 2,
   "metadata": {},
   "outputs": [],
   "source": [
    "import pandas as pd\n",
    "from dateparser import parse\n",
    "import warnings\n",
    "import dateparser\n"
   ]
  },
  {
   "cell_type": "markdown",
   "metadata": {},
   "source": [
    "---\n",
    "* ***Creating SanFran data frame for the past 3 years to current.***"
   ]
  },
  {
   "cell_type": "code",
   "execution_count": 23,
   "metadata": {},
   "outputs": [
    {
     "data": {
      "text/html": [
       "<div>\n",
       "<style scoped>\n",
       "    .dataframe tbody tr th:only-of-type {\n",
       "        vertical-align: middle;\n",
       "    }\n",
       "\n",
       "    .dataframe tbody tr th {\n",
       "        vertical-align: top;\n",
       "    }\n",
       "\n",
       "    .dataframe thead th {\n",
       "        text-align: right;\n",
       "    }\n",
       "</style>\n",
       "<table border=\"1\" class=\"dataframe\">\n",
       "  <thead>\n",
       "    <tr style=\"text-align: right;\">\n",
       "      <th></th>\n",
       "      <th>Home Team</th>\n",
       "      <th>Away Team</th>\n",
       "      <th>Home Score</th>\n",
       "      <th>Away Score</th>\n",
       "      <th>Total Score Open</th>\n",
       "    </tr>\n",
       "    <tr>\n",
       "      <th>Date</th>\n",
       "      <th></th>\n",
       "      <th></th>\n",
       "      <th></th>\n",
       "      <th></th>\n",
       "      <th></th>\n",
       "    </tr>\n",
       "  </thead>\n",
       "  <tbody>\n",
       "    <tr>\n",
       "      <th>2017-10-29</th>\n",
       "      <td>Philadelphia Eagles</td>\n",
       "      <td>San Francisco 49ers</td>\n",
       "      <td>33</td>\n",
       "      <td>10</td>\n",
       "      <td>47.5</td>\n",
       "    </tr>\n",
       "    <tr>\n",
       "      <th>2017-10-15</th>\n",
       "      <td>Washington Football Team</td>\n",
       "      <td>San Francisco 49ers</td>\n",
       "      <td>26</td>\n",
       "      <td>24</td>\n",
       "      <td>46.5</td>\n",
       "    </tr>\n",
       "    <tr>\n",
       "      <th>2017-10-08</th>\n",
       "      <td>Indianapolis Colts</td>\n",
       "      <td>San Francisco 49ers</td>\n",
       "      <td>26</td>\n",
       "      <td>23</td>\n",
       "      <td>43.0</td>\n",
       "    </tr>\n",
       "    <tr>\n",
       "      <th>2017-10-01</th>\n",
       "      <td>Arizona Cardinals</td>\n",
       "      <td>San Francisco 49ers</td>\n",
       "      <td>18</td>\n",
       "      <td>15</td>\n",
       "      <td>44.5</td>\n",
       "    </tr>\n",
       "    <tr>\n",
       "      <th>2017-09-17</th>\n",
       "      <td>Seattle Seahawks</td>\n",
       "      <td>San Francisco 49ers</td>\n",
       "      <td>12</td>\n",
       "      <td>9</td>\n",
       "      <td>43.0</td>\n",
       "    </tr>\n",
       "  </tbody>\n",
       "</table>\n",
       "</div>"
      ],
      "text/plain": [
       "                           Home Team            Away Team  Home Score  \\\n",
       "Date                                                                    \n",
       "2017-10-29       Philadelphia Eagles  San Francisco 49ers          33   \n",
       "2017-10-15  Washington Football Team  San Francisco 49ers          26   \n",
       "2017-10-08        Indianapolis Colts  San Francisco 49ers          26   \n",
       "2017-10-01         Arizona Cardinals  San Francisco 49ers          18   \n",
       "2017-09-17          Seattle Seahawks  San Francisco 49ers          12   \n",
       "\n",
       "            Away Score  Total Score Open  \n",
       "Date                                      \n",
       "2017-10-29          10              47.5  \n",
       "2017-10-15          24              46.5  \n",
       "2017-10-08          23              43.0  \n",
       "2017-10-01          15              44.5  \n",
       "2017-09-17           9              43.0  "
      ]
     },
     "execution_count": 23,
     "metadata": {},
     "output_type": "execute_result"
    }
   ],
   "source": [
    "df = pd.read_excel(\"nfl.xlsx\")\n",
    "df.set_index(\"Date\", inplace=True)\n",
    "df_years = df.loc[\"2017\":\"2020\"]\n",
    "df_san_fran = df_years.loc[(df_years[\"Home Team\"] == \"df_San Francisco 49ers\") | (df_years[\"Away Team\"] == \"San Francisco 49ers\")]\n",
    "df_san_fran = df_san_fran[[\"Home Team\", \"Away Team\", \"Home Score\", \"Away Score\", \"Total Score Open\"]]\n",
    "df_san_fran[\"Home Team\"].loc[\"2019-10-20\"] = \"Washington Football Team\"\n",
    "df_san_fran[\"Home Team\"].loc[\"2017-10-15\"] = \"Washington Football Team\"\n",
    "df_san_fran.tail()"
   ]
  },
  {
   "cell_type": "code",
   "execution_count": 24,
   "metadata": {},
   "outputs": [
    {
     "name": "stdout",
     "output_type": "stream",
     "text": [
      "<class 'pandas.core.frame.DataFrame'>\n",
      "DatetimeIndex: 27 entries, 2020-09-27 to 2017-09-17\n",
      "Data columns (total 5 columns):\n",
      " #   Column            Non-Null Count  Dtype  \n",
      "---  ------            --------------  -----  \n",
      " 0   Home Team         27 non-null     object \n",
      " 1   Away Team         27 non-null     object \n",
      " 2   Home Score        27 non-null     int64  \n",
      " 3   Away Score        27 non-null     int64  \n",
      " 4   Total Score Open  27 non-null     float64\n",
      "dtypes: float64(1), int64(2), object(2)\n",
      "memory usage: 2.5+ KB\n"
     ]
    }
   ],
   "source": [
    "df_san_fran.info()"
   ]
  },
  {
   "cell_type": "markdown",
   "metadata": {},
   "source": [
    "---\n",
    "* ***Creating data frame with the days, and time of day that they played.***"
   ]
  },
  {
   "cell_type": "code",
   "execution_count": 4,
   "metadata": {},
   "outputs": [],
   "source": [
    "def custom_date(my_row, year):\n",
    "    d = str(my_row) + f\", {year}\"\n",
    "    return d"
   ]
  },
  {
   "cell_type": "code",
   "execution_count": 5,
   "metadata": {},
   "outputs": [],
   "source": [
    "years = ['2017', '2018', '2019','2020']\n",
    "list_of_dfs = []\n",
    "for i in years:\n",
    "    list_of_dfs.append(pd.read_html(f'https://www.pro-football-reference.com/teams/sfo/{i}.htm'))"
   ]
  },
  {
   "cell_type": "code",
   "execution_count": 6,
   "metadata": {},
   "outputs": [],
   "source": [
    "yr_2017 = list_of_dfs[0][1]\n",
    "yr_2018 = list_of_dfs[1][1]\n",
    "yr_2019 = list_of_dfs[2][1]\n",
    "yr_2020 = list_of_dfs[3][1]"
   ]
  },
  {
   "cell_type": "code",
   "execution_count": null,
   "metadata": {},
   "outputs": [],
   "source": []
  },
  {
   "cell_type": "code",
   "execution_count": 7,
   "metadata": {
    "scrolled": true
   },
   "outputs": [],
   "source": [
    "df_2017 = yr_2017[[\"Unnamed: 3_level_0\",\"Unnamed: 1_level_0\", \"Unnamed: 2_level_0\"]]\n",
    "df_2018 = yr_2017[[\"Unnamed: 3_level_0\",\"Unnamed: 1_level_0\", \"Unnamed: 2_level_0\"]]\n",
    "df_2019 = yr_2017[[\"Unnamed: 3_level_0\",\"Unnamed: 1_level_0\", \"Unnamed: 2_level_0\"]]\n",
    "df_2020 = yr_2017[[\"Unnamed: 3_level_0\",\"Unnamed: 1_level_0\", \"Unnamed: 2_level_0\"]]"
   ]
  },
  {
   "cell_type": "code",
   "execution_count": 8,
   "metadata": {},
   "outputs": [],
   "source": [
    "df_2017.columns = [\"Time of Game\", \"Game Day\", \"Date\"]\n",
    "df_2018.columns = [\"Time of Game\", \"Game Day\", \"Date\"]\n",
    "df_2019.columns = [\"Time of Game\", \"Game Day\", \"Date\"]\n",
    "df_2020.columns = [\"Time of Game\", \"Game Day\", \"Date\"]"
   ]
  },
  {
   "cell_type": "code",
   "execution_count": 9,
   "metadata": {},
   "outputs": [],
   "source": [
    "df_2017['dt'] = df_2017['Date'].apply(lambda row: custom_date(row, '2017'))\n",
    "df_2018['dt'] = df_2018['Date'].apply(lambda row: custom_date(row, '2018'))\n",
    "df_2019['dt'] = df_2019['Date'].apply(lambda row: custom_date(row, '2019'))\n",
    "df_2020['dt'] = df_2020['Date'].apply(lambda row: custom_date(row, '2020'))"
   ]
  },
  {
   "cell_type": "code",
   "execution_count": 10,
   "metadata": {},
   "outputs": [],
   "source": [
    "df_2017['clean_dt'] = df_2017['dt'].apply(lambda row: dateparser.parse(row).strftime('%Y-%m-%d'))\n",
    "df_2018['clean_dt'] = df_2018['dt'].apply(lambda row: dateparser.parse(row).strftime('%Y-%m-%d'))\n",
    "df_2019['clean_dt'] = df_2019['dt'].apply(lambda row: dateparser.parse(row).strftime('%Y-%m-%d'))\n",
    "df_2020['clean_dt'] = df_2020['dt'].apply(lambda row: dateparser.parse(row).strftime('%Y-%m-%d'))"
   ]
  },
  {
   "cell_type": "code",
   "execution_count": 11,
   "metadata": {},
   "outputs": [],
   "source": [
    "df_2017 = df_2017.drop(columns=[\"dt\", \"Date\"])\n",
    "df_2018 = df_2018.drop(columns=[\"dt\", \"Date\"])\n",
    "df_2019 = df_2019.drop(columns=[\"dt\", \"Date\"])\n",
    "df_2020 = df_2020.drop(columns=[\"dt\", \"Date\"])"
   ]
  },
  {
   "cell_type": "code",
   "execution_count": 12,
   "metadata": {},
   "outputs": [],
   "source": [
    "df_2017.rename(columns = {'clean_dt':'Date'}, inplace = True)\n",
    "df_2018.rename(columns = {'clean_dt':'Date'}, inplace = True) \n",
    "df_2019.rename(columns = {'clean_dt':'Date'}, inplace = True) \n",
    "df_2020.rename(columns = {'clean_dt':'Date'}, inplace = True) "
   ]
  },
  {
   "cell_type": "code",
   "execution_count": 13,
   "metadata": {},
   "outputs": [],
   "source": [
    "df_2017.set_index(\"Date\", inplace=True)\n",
    "df_2018.set_index(\"Date\", inplace=True)\n",
    "df_2019.set_index(\"Date\", inplace=True)\n",
    "df_2020.set_index(\"Date\", inplace=True)"
   ]
  },
  {
   "cell_type": "code",
   "execution_count": 14,
   "metadata": {},
   "outputs": [
    {
     "data": {
      "text/html": [
       "<div>\n",
       "<style scoped>\n",
       "    .dataframe tbody tr th:only-of-type {\n",
       "        vertical-align: middle;\n",
       "    }\n",
       "\n",
       "    .dataframe tbody tr th {\n",
       "        vertical-align: top;\n",
       "    }\n",
       "\n",
       "    .dataframe thead th {\n",
       "        text-align: right;\n",
       "    }\n",
       "</style>\n",
       "<table border=\"1\" class=\"dataframe\">\n",
       "  <thead>\n",
       "    <tr style=\"text-align: right;\">\n",
       "      <th></th>\n",
       "      <th>Time of Game</th>\n",
       "      <th>Game Day</th>\n",
       "    </tr>\n",
       "    <tr>\n",
       "      <th>Date</th>\n",
       "      <th></th>\n",
       "      <th></th>\n",
       "    </tr>\n",
       "  </thead>\n",
       "  <tbody>\n",
       "    <tr>\n",
       "      <th>2020-12-03</th>\n",
       "      <td>1:00PM ET</td>\n",
       "      <td>Sun</td>\n",
       "    </tr>\n",
       "    <tr>\n",
       "      <th>2020-12-10</th>\n",
       "      <td>1:00PM ET</td>\n",
       "      <td>Sun</td>\n",
       "    </tr>\n",
       "    <tr>\n",
       "      <th>2020-12-17</th>\n",
       "      <td>4:25PM ET</td>\n",
       "      <td>Sun</td>\n",
       "    </tr>\n",
       "    <tr>\n",
       "      <th>2020-12-24</th>\n",
       "      <td>4:05PM ET</td>\n",
       "      <td>Sun</td>\n",
       "    </tr>\n",
       "    <tr>\n",
       "      <th>2020-12-31</th>\n",
       "      <td>4:25PM ET</td>\n",
       "      <td>Sun</td>\n",
       "    </tr>\n",
       "  </tbody>\n",
       "</table>\n",
       "</div>"
      ],
      "text/plain": [
       "           Time of Game Game Day\n",
       "Date                            \n",
       "2020-12-03    1:00PM ET      Sun\n",
       "2020-12-10    1:00PM ET      Sun\n",
       "2020-12-17    4:25PM ET      Sun\n",
       "2020-12-24    4:05PM ET      Sun\n",
       "2020-12-31    4:25PM ET      Sun"
      ]
     },
     "execution_count": 14,
     "metadata": {},
     "output_type": "execute_result"
    }
   ],
   "source": [
    "df_day_time = pd.concat([df_2017,df_2018,df_2019,df_2020])\n",
    "df_day_time.tail()"
   ]
  },
  {
   "cell_type": "code",
   "execution_count": 15,
   "metadata": {},
   "outputs": [],
   "source": [
    "#df_time_day = pd.read_html(\"https://www.sbnation.com/2017/4/20/15376922/2017-nfl-schedule-released-dates-times-highlights\")\n",
    "#df_time_day = df_time_day[0]\n",
    "#df_time_day = df_time_day.drop(columns=([\"Date\", \"Away Team\", \"Week\", \"TV\"]))\n",
    "#df_time_day.tail()"
   ]
  },
  {
   "cell_type": "markdown",
   "metadata": {},
   "source": [
    "---\n",
    "* ***Combing, and cleaning, data frames***"
   ]
  },
  {
   "cell_type": "code",
   "execution_count": 16,
   "metadata": {},
   "outputs": [],
   "source": [
    "df_stadium = pd.read_html(\"https://en.wikipedia.org/wiki/List_of_current_National_Football_League_stadiums\")\n",
    "df_stadium = df_stadium[1]\n",
    "df_stadium = df_stadium.drop(columns=([\"Image\", \"Capacity\", \"Opened\", \"Ref(s)\"]))\n",
    "df_stadium = df_stadium.append(df_stadium.iloc[[20,25]])\n",
    "df_stadium.reset_index(inplace=True,drop=True)\n",
    "# Chaning the names of a few rows\n",
    "df_stadium[\"Team(s)\"].loc[20] = \"New York Giants\"\n",
    "df_stadium[\"Team(s)\"].loc[30] = \"New York Jets\"\n",
    "df_stadium[\"Team(s)\"].loc[25] = \"Los Angeles Rams\"\n",
    "df_stadium[\"Team(s)\"].loc[31] = \"Los Angeles Chargers\""
   ]
  },
  {
   "cell_type": "code",
   "execution_count": 17,
   "metadata": {},
   "outputs": [],
   "source": [
    "df_san_fran = df_san_fran.join(df_stadium.set_index(\"Team(s)\"), on = \"Home Team\")"
   ]
  },
  {
   "cell_type": "code",
   "execution_count": null,
   "metadata": {},
   "outputs": [],
   "source": []
  },
  {
   "cell_type": "code",
   "execution_count": null,
   "metadata": {},
   "outputs": [],
   "source": []
  },
  {
   "cell_type": "code",
   "execution_count": null,
   "metadata": {},
   "outputs": [],
   "source": []
  },
  {
   "cell_type": "code",
   "execution_count": null,
   "metadata": {},
   "outputs": [],
   "source": []
  },
  {
   "cell_type": "code",
   "execution_count": 22,
   "metadata": {},
   "outputs": [
    {
     "name": "stdout",
     "output_type": "stream",
     "text": [
      "<class 'pandas.core.frame.DataFrame'>\n",
      "RangeIndex: 27 entries, 0 to 26\n",
      "Data columns (total 10 columns):\n",
      " #   Column            Non-Null Count  Dtype  \n",
      "---  ------            --------------  -----  \n",
      " 0   Date              27 non-null     object \n",
      " 1   Home Team         27 non-null     object \n",
      " 2   Away Team         27 non-null     object \n",
      " 3   Home Score        27 non-null     int64  \n",
      " 4   Away Score        27 non-null     int64  \n",
      " 5   Total Score Open  27 non-null     float64\n",
      " 6   Name              27 non-null     object \n",
      " 7   Location          27 non-null     object \n",
      " 8   Surface           27 non-null     object \n",
      " 9   Roof type         27 non-null     object \n",
      "dtypes: float64(1), int64(2), object(7)\n",
      "memory usage: 2.2+ KB\n"
     ]
    }
   ],
   "source": [
    "df_san_fran.info()"
   ]
  },
  {
   "cell_type": "code",
   "execution_count": 20,
   "metadata": {},
   "outputs": [
    {
     "name": "stdout",
     "output_type": "stream",
     "text": [
      "<class 'pandas.core.frame.DataFrame'>\n",
      "Index: 68 entries, 2017-09-10 to 2020-12-31\n",
      "Data columns (total 2 columns):\n",
      " #   Column        Non-Null Count  Dtype \n",
      "---  ------        --------------  ----- \n",
      " 0   Time of Game  64 non-null     object\n",
      " 1   Game Day      64 non-null     object\n",
      "dtypes: object(2)\n",
      "memory usage: 1.6+ KB\n"
     ]
    }
   ],
   "source": [
    "df_day_time.info()"
   ]
  },
  {
   "cell_type": "code",
   "execution_count": 21,
   "metadata": {},
   "outputs": [
    {
     "data": {
      "text/html": [
       "<div>\n",
       "<style scoped>\n",
       "    .dataframe tbody tr th:only-of-type {\n",
       "        vertical-align: middle;\n",
       "    }\n",
       "\n",
       "    .dataframe tbody tr th {\n",
       "        vertical-align: top;\n",
       "    }\n",
       "\n",
       "    .dataframe thead th {\n",
       "        text-align: right;\n",
       "    }\n",
       "</style>\n",
       "<table border=\"1\" class=\"dataframe\">\n",
       "  <thead>\n",
       "    <tr style=\"text-align: right;\">\n",
       "      <th></th>\n",
       "      <th>Date</th>\n",
       "      <th>Home Team</th>\n",
       "      <th>Away Team</th>\n",
       "      <th>Home Score</th>\n",
       "      <th>Away Score</th>\n",
       "      <th>Total Score Open</th>\n",
       "      <th>Name</th>\n",
       "      <th>Location</th>\n",
       "      <th>Surface</th>\n",
       "      <th>Roof type</th>\n",
       "      <th>Time of Game</th>\n",
       "      <th>Game Day</th>\n",
       "    </tr>\n",
       "  </thead>\n",
       "  <tbody>\n",
       "    <tr>\n",
       "      <th>0</th>\n",
       "      <td>2020-09-27</td>\n",
       "      <td>New York Giants</td>\n",
       "      <td>San Francisco 49ers</td>\n",
       "      <td>9.0</td>\n",
       "      <td>36.0</td>\n",
       "      <td>42.5</td>\n",
       "      <td>MetLife Stadium</td>\n",
       "      <td>East Rutherford, New Jersey</td>\n",
       "      <td>UBU Sports Speed Series S5-M Synthetic Turf[30]</td>\n",
       "      <td>Open</td>\n",
       "      <td>NaN</td>\n",
       "      <td>NaN</td>\n",
       "    </tr>\n",
       "    <tr>\n",
       "      <th>1</th>\n",
       "      <td>2020-09-20</td>\n",
       "      <td>New York Jets</td>\n",
       "      <td>San Francisco 49ers</td>\n",
       "      <td>13.0</td>\n",
       "      <td>31.0</td>\n",
       "      <td>43.5</td>\n",
       "      <td>MetLife Stadium</td>\n",
       "      <td>East Rutherford, New Jersey</td>\n",
       "      <td>UBU Sports Speed Series S5-M Synthetic Turf[30]</td>\n",
       "      <td>Open</td>\n",
       "      <td>NaN</td>\n",
       "      <td>NaN</td>\n",
       "    </tr>\n",
       "    <tr>\n",
       "      <th>2</th>\n",
       "      <td>2020-02-02</td>\n",
       "      <td>Kansas City Chiefs</td>\n",
       "      <td>San Francisco 49ers</td>\n",
       "      <td>31.0</td>\n",
       "      <td>20.0</td>\n",
       "      <td>53.0</td>\n",
       "      <td>Arrowhead Stadium</td>\n",
       "      <td>Kansas City, Missouri</td>\n",
       "      <td>Bermuda grass</td>\n",
       "      <td>Open</td>\n",
       "      <td>NaN</td>\n",
       "      <td>NaN</td>\n",
       "    </tr>\n",
       "    <tr>\n",
       "      <th>3</th>\n",
       "      <td>2019-12-29</td>\n",
       "      <td>Seattle Seahawks</td>\n",
       "      <td>San Francisco 49ers</td>\n",
       "      <td>21.0</td>\n",
       "      <td>26.0</td>\n",
       "      <td>48.0</td>\n",
       "      <td>CenturyLink Field</td>\n",
       "      <td>Seattle, Washington</td>\n",
       "      <td>FieldTurf Revolution 360[9]</td>\n",
       "      <td>Open</td>\n",
       "      <td>NaN</td>\n",
       "      <td>NaN</td>\n",
       "    </tr>\n",
       "    <tr>\n",
       "      <th>4</th>\n",
       "      <td>2019-12-08</td>\n",
       "      <td>New Orleans Saints</td>\n",
       "      <td>San Francisco 49ers</td>\n",
       "      <td>46.0</td>\n",
       "      <td>48.0</td>\n",
       "      <td>45.5</td>\n",
       "      <td>Mercedes-Benz Superdome</td>\n",
       "      <td>New Orleans, Louisiana</td>\n",
       "      <td>FieldTurf Revolution 360[9]</td>\n",
       "      <td>Fixed</td>\n",
       "      <td>NaN</td>\n",
       "      <td>NaN</td>\n",
       "    </tr>\n",
       "    <tr>\n",
       "      <th>...</th>\n",
       "      <td>...</td>\n",
       "      <td>...</td>\n",
       "      <td>...</td>\n",
       "      <td>...</td>\n",
       "      <td>...</td>\n",
       "      <td>...</td>\n",
       "      <td>...</td>\n",
       "      <td>...</td>\n",
       "      <td>...</td>\n",
       "      <td>...</td>\n",
       "      <td>...</td>\n",
       "      <td>...</td>\n",
       "    </tr>\n",
       "    <tr>\n",
       "      <th>2020-12-03</th>\n",
       "      <td>NaN</td>\n",
       "      <td>NaN</td>\n",
       "      <td>NaN</td>\n",
       "      <td>NaN</td>\n",
       "      <td>NaN</td>\n",
       "      <td>NaN</td>\n",
       "      <td>NaN</td>\n",
       "      <td>NaN</td>\n",
       "      <td>NaN</td>\n",
       "      <td>NaN</td>\n",
       "      <td>1:00PM ET</td>\n",
       "      <td>Sun</td>\n",
       "    </tr>\n",
       "    <tr>\n",
       "      <th>2020-12-10</th>\n",
       "      <td>NaN</td>\n",
       "      <td>NaN</td>\n",
       "      <td>NaN</td>\n",
       "      <td>NaN</td>\n",
       "      <td>NaN</td>\n",
       "      <td>NaN</td>\n",
       "      <td>NaN</td>\n",
       "      <td>NaN</td>\n",
       "      <td>NaN</td>\n",
       "      <td>NaN</td>\n",
       "      <td>1:00PM ET</td>\n",
       "      <td>Sun</td>\n",
       "    </tr>\n",
       "    <tr>\n",
       "      <th>2020-12-17</th>\n",
       "      <td>NaN</td>\n",
       "      <td>NaN</td>\n",
       "      <td>NaN</td>\n",
       "      <td>NaN</td>\n",
       "      <td>NaN</td>\n",
       "      <td>NaN</td>\n",
       "      <td>NaN</td>\n",
       "      <td>NaN</td>\n",
       "      <td>NaN</td>\n",
       "      <td>NaN</td>\n",
       "      <td>4:25PM ET</td>\n",
       "      <td>Sun</td>\n",
       "    </tr>\n",
       "    <tr>\n",
       "      <th>2020-12-24</th>\n",
       "      <td>NaN</td>\n",
       "      <td>NaN</td>\n",
       "      <td>NaN</td>\n",
       "      <td>NaN</td>\n",
       "      <td>NaN</td>\n",
       "      <td>NaN</td>\n",
       "      <td>NaN</td>\n",
       "      <td>NaN</td>\n",
       "      <td>NaN</td>\n",
       "      <td>NaN</td>\n",
       "      <td>4:05PM ET</td>\n",
       "      <td>Sun</td>\n",
       "    </tr>\n",
       "    <tr>\n",
       "      <th>2020-12-31</th>\n",
       "      <td>NaN</td>\n",
       "      <td>NaN</td>\n",
       "      <td>NaN</td>\n",
       "      <td>NaN</td>\n",
       "      <td>NaN</td>\n",
       "      <td>NaN</td>\n",
       "      <td>NaN</td>\n",
       "      <td>NaN</td>\n",
       "      <td>NaN</td>\n",
       "      <td>NaN</td>\n",
       "      <td>4:25PM ET</td>\n",
       "      <td>Sun</td>\n",
       "    </tr>\n",
       "  </tbody>\n",
       "</table>\n",
       "<p>95 rows × 12 columns</p>\n",
       "</div>"
      ],
      "text/plain": [
       "                  Date           Home Team            Away Team  Home Score  \\\n",
       "0           2020-09-27     New York Giants  San Francisco 49ers         9.0   \n",
       "1           2020-09-20       New York Jets  San Francisco 49ers        13.0   \n",
       "2           2020-02-02  Kansas City Chiefs  San Francisco 49ers        31.0   \n",
       "3           2019-12-29    Seattle Seahawks  San Francisco 49ers        21.0   \n",
       "4           2019-12-08  New Orleans Saints  San Francisco 49ers        46.0   \n",
       "...                ...                 ...                  ...         ...   \n",
       "2020-12-03         NaN                 NaN                  NaN         NaN   \n",
       "2020-12-10         NaN                 NaN                  NaN         NaN   \n",
       "2020-12-17         NaN                 NaN                  NaN         NaN   \n",
       "2020-12-24         NaN                 NaN                  NaN         NaN   \n",
       "2020-12-31         NaN                 NaN                  NaN         NaN   \n",
       "\n",
       "            Away Score  Total Score Open                     Name  \\\n",
       "0                 36.0              42.5          MetLife Stadium   \n",
       "1                 31.0              43.5          MetLife Stadium   \n",
       "2                 20.0              53.0        Arrowhead Stadium   \n",
       "3                 26.0              48.0        CenturyLink Field   \n",
       "4                 48.0              45.5  Mercedes-Benz Superdome   \n",
       "...                ...               ...                      ...   \n",
       "2020-12-03         NaN               NaN                      NaN   \n",
       "2020-12-10         NaN               NaN                      NaN   \n",
       "2020-12-17         NaN               NaN                      NaN   \n",
       "2020-12-24         NaN               NaN                      NaN   \n",
       "2020-12-31         NaN               NaN                      NaN   \n",
       "\n",
       "                               Location  \\\n",
       "0           East Rutherford, New Jersey   \n",
       "1           East Rutherford, New Jersey   \n",
       "2                 Kansas City, Missouri   \n",
       "3                   Seattle, Washington   \n",
       "4                New Orleans, Louisiana   \n",
       "...                                 ...   \n",
       "2020-12-03                          NaN   \n",
       "2020-12-10                          NaN   \n",
       "2020-12-17                          NaN   \n",
       "2020-12-24                          NaN   \n",
       "2020-12-31                          NaN   \n",
       "\n",
       "                                                    Surface Roof type  \\\n",
       "0           UBU Sports Speed Series S5-M Synthetic Turf[30]      Open   \n",
       "1           UBU Sports Speed Series S5-M Synthetic Turf[30]      Open   \n",
       "2                                             Bermuda grass      Open   \n",
       "3                               FieldTurf Revolution 360[9]      Open   \n",
       "4                               FieldTurf Revolution 360[9]     Fixed   \n",
       "...                                                     ...       ...   \n",
       "2020-12-03                                              NaN       NaN   \n",
       "2020-12-10                                              NaN       NaN   \n",
       "2020-12-17                                              NaN       NaN   \n",
       "2020-12-24                                              NaN       NaN   \n",
       "2020-12-31                                              NaN       NaN   \n",
       "\n",
       "           Time of Game Game Day  \n",
       "0                   NaN      NaN  \n",
       "1                   NaN      NaN  \n",
       "2                   NaN      NaN  \n",
       "3                   NaN      NaN  \n",
       "4                   NaN      NaN  \n",
       "...                 ...      ...  \n",
       "2020-12-03    1:00PM ET      Sun  \n",
       "2020-12-10    1:00PM ET      Sun  \n",
       "2020-12-17    4:25PM ET      Sun  \n",
       "2020-12-24    4:05PM ET      Sun  \n",
       "2020-12-31    4:25PM ET      Sun  \n",
       "\n",
       "[95 rows x 12 columns]"
      ]
     },
     "execution_count": 21,
     "metadata": {},
     "output_type": "execute_result"
    }
   ],
   "source": [
    "df_san_fran.reset_index(inplace=True)\n",
    "df_san_fran[\"Date\"] = pd.to_datetime(df_san_fran[\"Date\"]).dt.date\n",
    "#df_san_fran.set_index(\"Date\",inplace=True)\n",
    "pd.concat([df_san_fran,df_day_time])"
   ]
  },
  {
   "cell_type": "code",
   "execution_count": null,
   "metadata": {},
   "outputs": [],
   "source": []
  }
 ],
 "metadata": {
  "kernelspec": {
   "display_name": "Python 3",
   "language": "python",
   "name": "python3"
  },
  "language_info": {
   "codemirror_mode": {
    "name": "ipython",
    "version": 3
   },
   "file_extension": ".py",
   "mimetype": "text/x-python",
   "name": "python",
   "nbconvert_exporter": "python",
   "pygments_lexer": "ipython3",
   "version": "3.8.3"
  }
 },
 "nbformat": 4,
 "nbformat_minor": 4
}
